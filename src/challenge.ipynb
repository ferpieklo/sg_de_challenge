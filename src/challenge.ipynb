{
 "cells": [
  {
   "cell_type": "code",
   "execution_count": 12,
   "metadata": {},
   "outputs": [],
   "source": [
    "import logging\n",
    "import requests\n",
    "import pandas\n",
    "\n",
    "# Use a logger instead of simple print statements for better compatibility with orchestrators and logging services (like AWS CloudWatch)\n",
    "logging.basicConfig(level=logging.DEBUG)\n",
    "log = logging.getLogger(__name__)"
   ]
  },
  {
   "cell_type": "code",
   "execution_count": 13,
   "metadata": {},
   "outputs": [],
   "source": [
    "API_ROOT = \"https://api.frankfurter.app/\"\n",
    "\n",
    "CURRENCIES = {\n",
    "\t\"AUD\": \"Australian Dollar\",\n",
    "\t\"BGN\": \"Bulgarian Lev\",\n",
    "\t\"BRL\": \"Brazilian Real\",\n",
    "\t\"CAD\": \"Canadian Dollar\",\n",
    "\t\"CHF\": \"Swiss Franc\",\n",
    "\t\"CNY\": \"Chinese Renminbi Yuan\",\n",
    "\t\"CZK\": \"Czech Koruna\",\n",
    "\t\"DKK\": \"Danish Krone\",\n",
    "\t\"EUR\": \"Euro\",\n",
    "\t\"GBP\": \"British Pound\",\n",
    "\t\"HKD\": \"Hong Kong Dollar\",\n",
    "\t\"HUF\": \"Hungarian Forint\",\n",
    "\t\"IDR\": \"Indonesian Rupiah\",\n",
    "\t\"ILS\": \"Israeli New Sheqel\",\n",
    "\t\"INR\": \"Indian Rupee\",\n",
    "\t\"ISK\": \"Icelandic Króna\",\n",
    "\t\"JPY\": \"Japanese Yen\",\n",
    "\t\"KRW\": \"South Korean Won\",\n",
    "\t\"MXN\": \"Mexican Peso\",\n",
    "\t\"MYR\": \"Malaysian Ringgit\",\n",
    "\t\"NOK\": \"Norwegian Krone\",\n",
    "\t\"NZD\": \"New Zealand Dollar\",\n",
    "\t\"PHP\": \"Philippine Peso\",\n",
    "\t\"PLN\": \"Polish Złoty\",\n",
    "\t\"RON\": \"Romanian Leu\",\n",
    "\t\"SEK\": \"Swedish Krona\",\n",
    "\t\"SGD\": \"Singapore Dollar\",\n",
    "\t\"THB\": \"Thai Baht\",\n",
    "\t\"TRY\": \"Turkish Lira\",\n",
    "\t\"USD\": \"United States Dollar\",\n",
    "    \"ZAR\": \"South African Rand\"\n",
    "}\n",
    "\n",
    "from_currencies = list(CURRENCIES.keys())\n",
    "\n",
    "to_currencies = [\"EUR\"]\n",
    "\n",
    "# class ExchangeRateManager:\n",
    "#     def __init__(self, api_root, currencies):\n",
    "#         self.api_root = api_root\n",
    "#         self.currencies = currencies\n",
    "    \n",
    "#     def get_exchange_rates(date, from_currency, to_currency):\n",
    "#         url = api_root + date + \"?from=\" + from_currency + \"&to=\" + to_currency\n",
    "#         r = requests.get(api_root)\n",
    "#         log.info(url, r.status_code)\n",
    "\n",
    "def get_exchange_rates(date, from_currency, to_currency):\n",
    "    url = API_ROOT + date + \"?from=\" + from_currency + \"&to=\" + to_currency\n",
    "    r = requests.get(url)\n",
    "    log.info(f'Requested url: {url} with status code {r.status_code}')\n",
    "    return r"
   ]
  },
  {
   "cell_type": "code",
   "execution_count": 11,
   "metadata": {},
   "outputs": [
    {
     "name": "stderr",
     "output_type": "stream",
     "text": [
      "DEBUG:urllib3.connectionpool:Starting new HTTPS connection (1): api.frankfurter.app:443\n",
      "DEBUG:urllib3.connectionpool:https://api.frankfurter.app:443 \"GET /2024-02-12?from=AUD&to=EUR HTTP/11\" 200 None\n",
      "INFO:__main__:Requested url: https://api.frankfurter.app/2024-02-12?from=AUD&to=EUR with status code 200\n"
     ]
    },
    {
     "data": {
      "text/plain": [
       "{'amount': 1.0, 'base': 'AUD', 'date': '2024-02-12', 'rates': {'EUR': 0.60588}}"
      ]
     },
     "execution_count": 11,
     "metadata": {},
     "output_type": "execute_result"
    }
   ],
   "source": [
    "dates = ['2024-02-12', '2024-02-13']\n",
    "ds = '2024-02-12'\n",
    "\n",
    "# for date in dates:\n",
    "#     for from_currency in from_currencies:\n",
    "#         for to_currency in to_currencies:\n",
    "#             get_exchange_rates(date, from_currency, to_currency)\n",
    "\n",
    "resp = get_exchange_rates(ds, from_currencies[0], to_currencies[0])\n",
    "resp.json()\n",
    "        "
   ]
  }
 ],
 "metadata": {
  "kernelspec": {
   "display_name": ".venv",
   "language": "python",
   "name": "python3"
  },
  "language_info": {
   "codemirror_mode": {
    "name": "ipython",
    "version": 3
   },
   "file_extension": ".py",
   "mimetype": "text/x-python",
   "name": "python",
   "nbconvert_exporter": "python",
   "pygments_lexer": "ipython3",
   "version": "3.10.11"
  }
 },
 "nbformat": 4,
 "nbformat_minor": 2
}
